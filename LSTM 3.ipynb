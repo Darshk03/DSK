{
 "cells": [
  {
   "cell_type": "code",
   "execution_count": 1,
   "id": "b5e4cd8f-8bbd-424b-a058-0ccd7b3bf725",
   "metadata": {},
   "outputs": [],
   "source": [
    "import tensorflow as tf\n",
    "from tensorflow.keras.datasets import imdb\n",
    "from tensorflow.keras.preprocessing.sequence import pad_sequences\n",
    "from tensorflow.keras.models import Sequential\n",
    "from tensorflow.keras.layers import Embedding,LSTM,Dense"
   ]
  },
  {
   "cell_type": "code",
   "execution_count": 2,
   "id": "9529c515-e797-4660-89df-51c0f0b27152",
   "metadata": {},
   "outputs": [],
   "source": [
    "# LOAD Dataset\n",
    "(x_train,y_train),(x_test,y_test)=imdb.load_data(num_words=10000)\n",
    "\n",
    "# pad seq to same length\n",
    "x_train = pad_sequences(x_train,maxlen=200)\n",
    "x_test=pad_sequences(x_test,maxlen=200)\n"
   ]
  },
  {
   "cell_type": "code",
   "execution_count": 3,
   "id": "be51fff3-53c8-4ab9-94ad-c088b4e1c869",
   "metadata": {},
   "outputs": [
    {
     "name": "stderr",
     "output_type": "stream",
     "text": [
      "C:\\Users\\darsh\\AppData\\Local\\Programs\\Python\\Python310\\lib\\site-packages\\keras\\src\\layers\\core\\embedding.py:90: UserWarning: Argument `input_length` is deprecated. Just remove it.\n",
      "  warnings.warn(\n"
     ]
    },
    {
     "name": "stdout",
     "output_type": "stream",
     "text": [
      "Epoch 1/3\n",
      "\u001b[1m313/313\u001b[0m \u001b[32m━━━━━━━━━━━━━━━━━━━━\u001b[0m\u001b[37m\u001b[0m \u001b[1m29s\u001b[0m 83ms/step - accuracy: 0.6844 - loss: 0.5528 - val_accuracy: 0.8550 - val_loss: 0.3523\n",
      "Epoch 2/3\n",
      "\u001b[1m313/313\u001b[0m \u001b[32m━━━━━━━━━━━━━━━━━━━━\u001b[0m\u001b[37m\u001b[0m \u001b[1m24s\u001b[0m 77ms/step - accuracy: 0.8988 - loss: 0.2591 - val_accuracy: 0.8804 - val_loss: 0.3125\n",
      "Epoch 3/3\n",
      "\u001b[1m313/313\u001b[0m \u001b[32m━━━━━━━━━━━━━━━━━━━━\u001b[0m\u001b[37m\u001b[0m \u001b[1m24s\u001b[0m 76ms/step - accuracy: 0.9347 - loss: 0.1797 - val_accuracy: 0.8724 - val_loss: 0.3209\n"
     ]
    },
    {
     "data": {
      "text/plain": [
       "<keras.src.callbacks.history.History at 0x27aa73f0dc0>"
      ]
     },
     "execution_count": 3,
     "metadata": {},
     "output_type": "execute_result"
    }
   ],
   "source": [
    "# LSTM MODEL\n",
    "model = Sequential([\n",
    "    Embedding(input_dim=10000,output_dim=32,input_length=200),\n",
    "    LSTM(64),\n",
    "    Dense(1,activation='sigmoid')\n",
    "])\n",
    "\n",
    "# compile and train\n",
    "model.compile(optimizer='adam',loss='binary_crossentropy',metrics=['accuracy'])\n",
    "model.fit(x_train,y_train,epochs=3,batch_size=64,validation_split=0.2)"
   ]
  },
  {
   "cell_type": "code",
   "execution_count": 4,
   "id": "41494838-247e-4ccc-afbe-749ed7be916a",
   "metadata": {},
   "outputs": [
    {
     "name": "stdout",
     "output_type": "stream",
     "text": [
      "\u001b[1m782/782\u001b[0m \u001b[32m━━━━━━━━━━━━━━━━━━━━\u001b[0m\u001b[37m\u001b[0m \u001b[1m16s\u001b[0m 21ms/step - accuracy: 0.8668 - loss: 0.3332\n",
      "TEST ACCURACY =  0.8665599822998047\n"
     ]
    }
   ],
   "source": [
    "#evaluation\n",
    "loss,acc=model.evaluate(x_test,y_test)\n",
    "print(\"TEST ACCURACY = \",acc)"
   ]
  },
  {
   "cell_type": "code",
   "execution_count": null,
   "id": "37b0d10b-7556-4754-aa68-b04eafe08183",
   "metadata": {},
   "outputs": [],
   "source": []
  }
 ],
 "metadata": {
  "kernelspec": {
   "display_name": "Python 3 (ipykernel)",
   "language": "python",
   "name": "python3"
  },
  "language_info": {
   "codemirror_mode": {
    "name": "ipython",
    "version": 3
   },
   "file_extension": ".py",
   "mimetype": "text/x-python",
   "name": "python",
   "nbconvert_exporter": "python",
   "pygments_lexer": "ipython3",
   "version": "3.10.10"
  }
 },
 "nbformat": 4,
 "nbformat_minor": 5
}
