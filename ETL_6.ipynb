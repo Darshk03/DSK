{
 "cells": [
  {
   "cell_type": "code",
   "execution_count": 1,
   "id": "20e22652-b101-4267-9492-5cc54eb81b73",
   "metadata": {},
   "outputs": [],
   "source": [
    "import pandas as pd\n",
    "import matplotlib.pyplot as plt\n",
    "import seaborn as sns"
   ]
  },
  {
   "cell_type": "code",
   "execution_count": 2,
   "id": "f5872985-e9cd-4620-b477-eb65d9ca1868",
   "metadata": {},
   "outputs": [
    {
     "name": "stdout",
     "output_type": "stream",
     "text": [
      "Extracted Data (first 5 rows):\n",
      "   Transaction ID        Date Customer ID  Gender  Age Product Category  \\\n",
      "0               1  2023-11-24     CUST001    Male   34           Beauty   \n",
      "1               2  2023-02-27     CUST002  Female   26         Clothing   \n",
      "2               3  2023-01-13     CUST003    Male   50      Electronics   \n",
      "3               4  2023-05-21     CUST004    Male   37         Clothing   \n",
      "4               5  2023-05-06     CUST005    Male   30           Beauty   \n",
      "\n",
      "   Quantity  Price per Unit  Total Amount  \n",
      "0         3              50           150  \n",
      "1         2             500          1000  \n",
      "2         1              30            30  \n",
      "3         1             500           500  \n",
      "4         2              50           100  \n"
     ]
    }
   ],
   "source": [
    "df = pd.read_csv('sales_data.csv')\n",
    "print(\"Extracted Data (first 5 rows):\")\n",
    "print(df.head())"
   ]
  },
  {
   "cell_type": "code",
   "execution_count": 3,
   "id": "6dfcb9f2-525b-4476-91ea-e58f492fd544",
   "metadata": {},
   "outputs": [],
   "source": [
    "df['Date'] = pd.to_datetime(df['Date'])"
   ]
  },
  {
   "cell_type": "code",
   "execution_count": 4,
   "id": "6f305cfd-466d-4781-b4eb-38e567f3c7f9",
   "metadata": {},
   "outputs": [],
   "source": [
    "df['Total Amount'] = df['Quantity'] * df['Price per Unit']"
   ]
  },
  {
   "cell_type": "code",
   "execution_count": 5,
   "id": "8c08fae4-d440-43d5-a4ad-60237898b015",
   "metadata": {},
   "outputs": [
    {
     "name": "stdout",
     "output_type": "stream",
     "text": [
      "\n",
      "Transformed Summary:\n",
      "  Product Category  Quantity  Total Amount\n",
      "0           Beauty       771        143515\n",
      "1         Clothing       894        155580\n",
      "2      Electronics       849        156905\n"
     ]
    }
   ],
   "source": [
    "summary = df.groupby('Product Category').agg({'Quantity':'sum', 'Total Amount':'sum'}).reset_index()\n",
    "print(\"\\nTransformed Summary:\")\n",
    "print(summary)"
   ]
  },
  {
   "cell_type": "code",
   "execution_count": 6,
   "id": "baaabc87-f2c2-47f9-b521-0ca9b6235492",
   "metadata": {},
   "outputs": [
    {
     "name": "stdout",
     "output_type": "stream",
     "text": [
      "\n",
      "Transformed data saved to 'processed_sales_summary.csv'\n"
     ]
    }
   ],
   "source": [
    "summary.to_csv('processed_sales_summary.csv', index=False)\n",
    "print(\"\\nTransformed data saved to 'processed_sales_summary.csv'\")"
   ]
  },
  {
   "cell_type": "code",
   "execution_count": 7,
   "id": "952c3ade-ac60-4677-8d6e-016ecbc27753",
   "metadata": {},
   "outputs": [
    {
     "name": "stderr",
     "output_type": "stream",
     "text": [
      "C:\\Users\\darsh\\AppData\\Local\\Temp\\ipykernel_21176\\196210515.py:2: FutureWarning: \n",
      "\n",
      "Passing `palette` without assigning `hue` is deprecated and will be removed in v0.14.0. Assign the `x` variable to `hue` and set `legend=False` for the same effect.\n",
      "\n",
      "  sns.barplot(data=summary, x='Product Category', y='Quantity', palette='viridis')\n"
     ]
    },
    {
     "data": {
      "image/png": "[encoded data removed]",
      "text/plain": [
       "<Figure size 600x400 with 1 Axes>"
      ]
     },
     "metadata": {},
     "output_type": "display_data"
    }
   ],
   "source": [
    "plt.figure(figsize=(6,4))\n",
    "sns.barplot(data=summary, x='Product Category', y='Quantity', palette='viridis')\n",
    "plt.title('Total Quantity per Product Category')\n",
    "plt.xlabel('Product Category')\n",
    "plt.ylabel('Quantity')\n",
    "plt.show()"
   ]
  },
  {
   "cell_type": "code",
   "execution_count": null,
   "id": "dea16934-b029-44d8-b587-183e29188986",
   "metadata": {},
   "outputs": [],
   "source": []
  }
 ],
 "metadata": {
  "kernelspec": {
   "display_name": "Python 3 (ipykernel)",
   "language": "python",
   "name": "python3"
  },
  "language_info": {
   "codemirror_mode": {
    "name": "ipython",
    "version": 3
   },
   "file_extension": ".py",
   "mimetype": "text/x-python",
   "name": "python",
   "nbconvert_exporter": "python",
   "pygments_lexer": "ipython3",
   "version": "3.10.10"
  }
 },
 "nbformat": 4,
 "nbformat_minor": 5
}
