{
 "cells": [
  {
   "cell_type": "code",
   "execution_count": 1,
   "id": "23880dc5-3917-4e72-b86f-84190a0a4f2d",
   "metadata": {},
   "outputs": [],
   "source": [
    "import pandas as pd\n",
    "from sqlalchemy import create_engine\n",
    "import mysql.connector"
   ]
  },
  {
   "cell_type": "code",
   "execution_count": 2,
   "id": "0ac54ab0-7278-451a-a091-077fc174389c",
   "metadata": {},
   "outputs": [],
   "source": [
    "#Load data\n",
    "oracle_df = pd.read_csv('large_oracle_data.csv')\n",
    "sql_df = pd.read_csv('large_sql_data.csv')\n",
    "sales_df = pd.read_excel('large_sales_data.xlsx')"
   ]
  },
  {
   "cell_type": "code",
   "execution_count": 3,
   "id": "d1ee3676-f79f-4ad4-be96-a1b6b7c35a43",
   "metadata": {},
   "outputs": [],
   "source": [
    "# Dataframes list\n",
    "data = [oracle_df, sql_df, sales_df]"
   ]
  },
  {
   "cell_type": "code",
   "execution_count": 4,
   "id": "c537d5cb-d1d7-41f6-910e-9818385bf0fa",
   "metadata": {},
   "outputs": [],
   "source": [
    "# Drop 'order_id' column if it exists\n",
    "for df in data:\n",
    "    if 'order_id' in df.columns:\n",
    "        df.drop('order_id', axis=1, inplace=True)"
   ]
  },
  {
   "cell_type": "code",
   "execution_count": 5,
   "id": "b0f2bf8e-56c9-4718-a1ec-cc611faea1c0",
   "metadata": {},
   "outputs": [],
   "source": [
    "# Aggregation\n",
    "aggregate_data = []\n",
    "for df in data:\n",
    "    if 'order_date' in df.columns and 'product_category' in df.columns:\n",
    "        grouped_df = df.drop('order_date', axis=1).groupby('product_category').sum()\n",
    "        aggregate_data.append(grouped_df)"
   ]
  },
  {
   "cell_type": "code",
   "execution_count": 6,
   "id": "f5738241-3a51-4ccd-9037-5ea4ab3a7ff6",
   "metadata": {},
   "outputs": [
    {
     "name": "stdout",
     "output_type": "stream",
     "text": [
      "                   sales\n",
      "product_category        \n",
      "Appliances        108585\n",
      "Clothing          111543\n",
      "Electronics       102196\n",
      "Furniture         119501\n",
      "Toys              119428 \n",
      "\n",
      "\n",
      "                   sales\n",
      "product_category        \n",
      "Appliances        119043\n",
      "Clothing          107451\n",
      "Electronics       110935\n",
      "Furniture         109847\n",
      "Toys              114767 \n",
      "\n",
      "\n",
      "                   sales\n",
      "product_category        \n",
      "Appliances        107710\n",
      "Clothing           96096\n",
      "Electronics       100432\n",
      "Furniture         117269\n",
      "Toys              108232 \n",
      "\n",
      "\n"
     ]
    }
   ],
   "source": [
    "# Print aggregated data\n",
    "for df in aggregate_data:\n",
    "    print(df.head(), '\\n\\n')"
   ]
  },
  {
   "cell_type": "code",
   "execution_count": 8,
   "id": "d3825cc7-ae71-45a8-8e20-ea3afc3846e6",
   "metadata": {},
   "outputs": [
    {
     "name": "stdout",
     "output_type": "stream",
     "text": [
      "Connected to MySQL!\n"
     ]
    }
   ],
   "source": [
    "import mysql.connector\n",
    "\n",
    "try:\n",
    "    conn = mysql.connector.connect(\n",
    "        host=\"localhost\",\n",
    "        user=\"root\",\n",
    "        password=\"Darshan@123\"\n",
    "    )\n",
    "    if conn.is_connected():\n",
    "        print(\"Connected to MySQL!\")\n",
    "except Exception as e:\n",
    "    print(\"Connection failed:\", e)\n"
   ]
  },
  {
   "cell_type": "code",
   "execution_count": null,
   "id": "bbd6513a-fe9e-4b3c-a250-e415ab8eaf72",
   "metadata": {},
   "outputs": [],
   "source": []
  }
 ],
 "metadata": {
  "kernelspec": {
   "display_name": "Python 3 (ipykernel)",
   "language": "python",
   "name": "python3"
  },
  "language_info": {
   "codemirror_mode": {
    "name": "ipython",
    "version": 3
   },
   "file_extension": ".py",
   "mimetype": "text/x-python",
   "name": "python",
   "nbconvert_exporter": "python",
   "pygments_lexer": "ipython3",
   "version": "3.10.10"
  }
 },
 "nbformat": 4,
 "nbformat_minor": 5
}
